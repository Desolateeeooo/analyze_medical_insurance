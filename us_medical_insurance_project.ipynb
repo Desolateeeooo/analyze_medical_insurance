{
 "cells": [
  {
   "cell_type": "markdown",
   "id": "ad7ce973-5e3b-4b07-9ea1-8852fe222347",
   "metadata": {},
   "source": [
    "# U.S. Medical Insurance Costs"
   ]
  },
  {
   "cell_type": "markdown",
   "id": "48c101c2-1d87-43c7-9aaf-27996363e127",
   "metadata": {},
   "source": [
    "#### Part 1. Setting up the project"
   ]
  },
  {
   "cell_type": "code",
   "execution_count": 297,
   "id": "1e71e2e2-ffa6-4fb0-ad31-e5d73a3bb9dc",
   "metadata": {},
   "outputs": [],
   "source": [
    "import numpy as np\n",
    "import pandas as pd\n",
    "import matplotlib.pyplot as plt \n",
    "import seaborn as sns"
   ]
  },
  {
   "cell_type": "code",
   "execution_count": 298,
   "id": "28ec8249-1690-43a4-b503-be60003e0a63",
   "metadata": {},
   "outputs": [],
   "source": [
    "med_insurance = pd.read_csv('insurance.csv')"
   ]
  },
  {
   "cell_type": "code",
   "execution_count": 299,
   "id": "17f72b2b-50cb-4e31-813a-87e39ff8619d",
   "metadata": {},
   "outputs": [
    {
     "name": "stdout",
     "output_type": "stream",
     "text": [
      "   age     sex     bmi  children smoker     region      charges\n",
      "0   19  female  27.900         0    yes  southwest  16884.92400\n",
      "1   18    male  33.770         1     no  southeast   1725.55230\n",
      "2   28    male  33.000         3     no  southeast   4449.46200\n",
      "3   33    male  22.705         0     no  northwest  21984.47061\n",
      "4   32    male  28.880         0     no  northwest   3866.85520\n"
     ]
    }
   ],
   "source": [
    "print(med_insurance.head(5))"
   ]
  },
  {
   "cell_type": "markdown",
   "id": "dff6c036-802a-42e5-8695-00472ce01d9c",
   "metadata": {},
   "source": [
    "- Lets summarize our **data**"
   ]
  },
  {
   "cell_type": "code",
   "execution_count": 300,
   "id": "884defe2-931e-4af5-9683-60a58799389d",
   "metadata": {},
   "outputs": [
    {
     "name": "stdout",
     "output_type": "stream",
     "text": [
      "                age   sex          bmi     children smoker     region  \\\n",
      "count   1338.000000  1338  1338.000000  1338.000000   1338       1338   \n",
      "unique          NaN     2          NaN          NaN      2          4   \n",
      "top             NaN  male          NaN          NaN     no  southeast   \n",
      "freq            NaN   676          NaN          NaN   1064        364   \n",
      "mean      39.207025   NaN    30.663397     1.094918    NaN        NaN   \n",
      "std       14.049960   NaN     6.098187     1.205493    NaN        NaN   \n",
      "min       18.000000   NaN    15.960000     0.000000    NaN        NaN   \n",
      "25%       27.000000   NaN    26.296250     0.000000    NaN        NaN   \n",
      "50%       39.000000   NaN    30.400000     1.000000    NaN        NaN   \n",
      "75%       51.000000   NaN    34.693750     2.000000    NaN        NaN   \n",
      "max       64.000000   NaN    53.130000     5.000000    NaN        NaN   \n",
      "\n",
      "             charges  \n",
      "count    1338.000000  \n",
      "unique           NaN  \n",
      "top              NaN  \n",
      "freq             NaN  \n",
      "mean    13270.422265  \n",
      "std     12110.011237  \n",
      "min      1121.873900  \n",
      "25%      4740.287150  \n",
      "50%      9382.033000  \n",
      "75%     16639.912515  \n",
      "max     63770.428010  \n"
     ]
    }
   ],
   "source": [
    "print(med_insurance.describe(include=\"all\"))"
   ]
  },
  {
   "cell_type": "code",
   "execution_count": 301,
   "id": "a12e78ec-6580-4fa1-858c-5d6d78309d1d",
   "metadata": {},
   "outputs": [
    {
     "name": "stdout",
     "output_type": "stream",
     "text": [
      "age           int64\n",
      "sex          object\n",
      "bmi         float64\n",
      "children      int64\n",
      "smoker       object\n",
      "region       object\n",
      "charges     float64\n",
      "dtype: object\n"
     ]
    }
   ],
   "source": [
    "print(med_insurance.dtypes)"
   ]
  },
  {
   "cell_type": "markdown",
   "id": "6cbffcb5-18af-4c85-88f4-3ceee1e0487b",
   "metadata": {},
   "source": [
    "- Lets change the dtype of region to \"string\""
   ]
  },
  {
   "cell_type": "code",
   "execution_count": 302,
   "id": "3ca91137-eb3c-4895-8da9-e945d4b6d4f5",
   "metadata": {},
   "outputs": [],
   "source": [
    "med_insurance['region'] = med_insurance['region'].astype(\"string\")"
   ]
  },
  {
   "cell_type": "code",
   "execution_count": 303,
   "id": "7aebc1dc-32da-497c-b11a-5dbc806f303c",
   "metadata": {},
   "outputs": [
    {
     "name": "stdout",
     "output_type": "stream",
     "text": [
      "age                  int64\n",
      "sex                 object\n",
      "bmi                float64\n",
      "children             int64\n",
      "smoker              object\n",
      "region      string[python]\n",
      "charges            float64\n",
      "dtype: object\n"
     ]
    }
   ],
   "source": [
    "print(med_insurance.dtypes)"
   ]
  },
  {
   "cell_type": "markdown",
   "id": "a4283e21-1e53-47fa-898a-b7caea917346",
   "metadata": {},
   "source": [
    "#### Part 2. Answering the questions"
   ]
  },
  {
   "cell_type": "markdown",
   "id": "95a19f78-c2ea-4ca0-bd86-150bb4c91e38",
   "metadata": {},
   "source": [
    "\n",
    "---\n",
    "##### 1. What is the central tendency of charges?"
   ]
  },
  {
   "cell_type": "code",
   "execution_count": 304,
   "id": "fb3649ac-9976-4b42-ab43-07bf59dc64f2",
   "metadata": {},
   "outputs": [
    {
     "name": "stdout",
     "output_type": "stream",
     "text": [
      "Mean: 13270.422265141257\n",
      "Median: 9382.033\n",
      "Mode: 0    1639.5631\n",
      "Name: charges, dtype: float64\n",
      "Trimmed mean: 9877.310386652985\n"
     ]
    }
   ],
   "source": [
    "charges_mean = med_insurance.charges.mean()\n",
    "print(\"Mean:\", charges_mean)\n",
    "\n",
    "charges_median = med_insurance.charges.median()\n",
    "print(\"Median:\", charges_median)\n",
    "\n",
    "charges_mode = med_insurance.charges.mode()\n",
    "print(\"Mode:\", charges_mode)\n",
    "\n",
    "from scipy.stats import trim_mean\n",
    "charges_trim_mean = trim_mean(med_insurance.charges, proportiontocut=0.2)\n",
    "print(\"Trimmed mean:\", charges_trim_mean)"
   ]
  },
  {
   "cell_type": "code",
   "execution_count": 305,
   "id": "ba8dba04-ff8a-4ae8-9c15-a8aa870d8023",
   "metadata": {},
   "outputs": [
    {
     "data": {
      "image/png": "[encoded data removed]",
      "text/plain": [
       "<Figure size 640x480 with 1 Axes>"
      ]
     },
     "metadata": {},
     "output_type": "display_data"
    }
   ],
   "source": [
    "sns.histplot(x='charges', data=med_insurance)\n",
    "plt.show()\n",
    "plt.close()"
   ]
  },
  {
   "cell_type": "markdown",
   "id": "57e2ad1a-0e2f-4a39-9498-404ef8bd2786",
   "metadata": {},
   "source": [
    "> **Observation 1.** From here we can see that the data is highly right-skewed, which pulls mean to be higher than median. Meaning there are some extra high values on the right."
   ]
  },
  {
   "cell_type": "markdown",
   "id": "16af0fed-9f3a-4c04-ad47-741c012a7f6f",
   "metadata": {},
   "source": [
    "> **Observation 2.** We see that the trimmed mean is somewhat close to median and mode. Particularly when we cut off 20% from each side."
   ]
  },
  {
   "cell_type": "markdown",
   "id": "e3f3edab-84d6-4fa6-b229-6412e3e1188f",
   "metadata": {},
   "source": [
    "> **Observation 3.** From here we can see that the typical cost of insurance is around 9400$."
   ]
  },
  {
   "cell_type": "markdown",
   "id": "631becd8-1dad-45d0-89a5-4b8a88df5617",
   "metadata": {},
   "source": [
    "\n",
    "---\n",
    "##### 2. What is the spread of charges?"
   ]
  },
  {
   "cell_type": "code",
   "execution_count": 306,
   "id": "1f3e0165-86eb-4fff-8778-83262ede4a67",
   "metadata": {},
   "outputs": [
    {
     "name": "stdout",
     "output_type": "stream",
     "text": [
      "Range: 62648.554110000005\n",
      "Interquartile range: 11899.625365\n",
      "Variance: 146652372.1528548\n",
      "Standard deviation: 12110.011236693994\n",
      "Mean Absolute Deviation: 9091.12658113703\n"
     ]
    }
   ],
   "source": [
    "charges_range = med_insurance.charges.max() - med_insurance.charges.min()\n",
    "print(\"Range:\", charges_range)\n",
    "\n",
    "charges_iqr = med_insurance.charges.quantile(0.75) - med_insurance.charges.quantile(0.25)\n",
    "print(\"Interquartile range:\", charges_iqr)\n",
    "\n",
    "charges_variance = med_insurance.charges.var()\n",
    "print(\"Variance:\", charges_variance)\n",
    "\n",
    "charges_std = med_insurance.charges.std()\n",
    "print(\"Standard deviation:\", charges_std)\n",
    "\n",
    "def mad(series):\n",
    "    return (series - series.mean()).abs().mean()\n",
    "\n",
    "charges_mad = mad(med_insurance.charges)\n",
    "print(\"Mean Absolute Deviation:\", charges_mad)"
   ]
  },
  {
   "cell_type": "markdown",
   "id": "5fb623bb-55d0-44ea-b74d-7ea1185bfe76",
   "metadata": {},
   "source": [
    "> **Observation 1.** We see that the range is not suitable here, this is due to 1 or more people have >60000$ charge price. Therefore we might need to look at IQR. "
   ]
  },
  {
   "cell_type": "markdown",
   "id": "31e4ed66-4e7d-4887-9bfb-574d22e9c569",
   "metadata": {},
   "source": [
    "> **Observation 2.** Standard deviation is not very descriptive here, because our data is highly right-skewed distributed. Therefore we might need to look at Mean Absolute Deviation. "
   ]
  },
  {
   "cell_type": "markdown",
   "id": "64762f5b-5653-4692-ba49-e0dfd228b4fb",
   "metadata": {},
   "source": [
    "> **Observation 3.**\n",
    "> - Observation 1 shows us that the 50% of central dataset is clustered around the median.\n",
    "> - Obvervation 2 tells us that most people's insurance costs are clustered very tightly around the typical cost."
   ]
  },
  {
   "cell_type": "markdown",
   "id": "cf09db86-1354-4ee8-adbc-d28da87b33c9",
   "metadata": {},
   "source": [
    "\n",
    "---\n",
    "##### 3. Find the central tendency of ages in the dataset"
   ]
  },
  {
   "cell_type": "code",
   "execution_count": 307,
   "id": "e106877c-d6af-440f-ac30-b73be0f7d3d7",
   "metadata": {},
   "outputs": [
    {
     "name": "stdout",
     "output_type": "stream",
     "text": [
      "Mean: 39.20702541106129\n",
      "Median: 39.0\n",
      "Mode: 0    18\n",
      "Name: age, dtype: int64\n",
      "Trimmed mean: 39.02985074626866\n"
     ]
    }
   ],
   "source": [
    "ages_mean = med_insurance.age.mean()\n",
    "print(\"Mean:\", ages_mean)\n",
    "\n",
    "ages_median = med_insurance.age.median()\n",
    "print(\"Median:\", ages_median)\n",
    "\n",
    "ages_mode = med_insurance.age.mode()\n",
    "print(\"Mode:\", ages_mode)\n",
    "\n",
    "from scipy.stats import trim_mean\n",
    "ages_trim_mean = trim_mean(med_insurance.age, proportiontocut=0.2)\n",
    "print(\"Trimmed mean:\", ages_trim_mean)"
   ]
  },
  {
   "cell_type": "code",
   "execution_count": 308,
   "id": "24a664d7-e878-464b-a7af-be67d6c89d7d",
   "metadata": {},
   "outputs": [
    {
     "data": {
      "image/png": "[encoded data removed]",
      "text/plain": [
       "<Figure size 640x480 with 1 Axes>"
      ]
     },
     "metadata": {},
     "output_type": "display_data"
    }
   ],
   "source": [
    "sns.histplot(x='age', data=med_insurance)\n",
    "plt.show()\n",
    "plt.close()"
   ]
  },
  {
   "cell_type": "markdown",
   "id": "c1efed26-ae11-4790-bb3c-c695aec9a616",
   "metadata": {},
   "source": [
    "> **Observation 1.** From this histogram we can observe that we have a highly skewed distribution with a large number of younger people, as the low mode age of 0–18 is pulled down by outliers, while the median and mean are pulled up by a much smaller number of older individuals. The ages of the most frequent group are concentrated in the youngest category, but the majority of people are around the average age of 39. "
   ]
  },
  {
   "cell_type": "markdown",
   "id": "e8f6f04c-1870-41fc-99b6-08d3ea5a9b77",
   "metadata": {},
   "source": [
    "\n",
    "---\n",
    "##### 4. Find the proportion of smokers and non-smokers"
   ]
  },
  {
   "cell_type": "code",
   "execution_count": 309,
   "id": "8553c712-1fd4-4766-b282-62df7784c6e0",
   "metadata": {},
   "outputs": [
    {
     "data": {
      "text/plain": [
       "smoker\n",
       "no     1064\n",
       "yes     274\n",
       "Name: count, dtype: int64"
      ]
     },
     "execution_count": 309,
     "metadata": {},
     "output_type": "execute_result"
    }
   ],
   "source": [
    "med_insurance.smoker.value_counts()"
   ]
  },
  {
   "cell_type": "code",
   "execution_count": 310,
   "id": "ff24e824-9f38-44f3-8cf2-062f733bb362",
   "metadata": {},
   "outputs": [
    {
     "data": {
      "image/png": "[encoded data removed]",
      "text/plain": [
       "<Figure size 640x480 with 1 Axes>"
      ]
     },
     "metadata": {},
     "output_type": "display_data"
    }
   ],
   "source": [
    "med_insurance.smoker.value_counts().plot.pie()\n",
    "plt.show()\n",
    "plt.close()"
   ]
  },
  {
   "cell_type": "markdown",
   "id": "54813b32-d12d-4ba9-85b8-5ebfa6d5eda7",
   "metadata": {},
   "source": [
    "> **Observation 1.** From this we can see that most of the people in our dataset are not smoking. "
   ]
  },
  {
   "cell_type": "markdown",
   "id": "60d7e9bd-2faa-4923-867c-83f28131fa24",
   "metadata": {},
   "source": [
    "\n",
    "---\n",
    "##### 5. What is the proportion of the number of children people have in our dataset?"
   ]
  },
  {
   "cell_type": "code",
   "execution_count": 311,
   "id": "2244f1fc-d3ca-4bf6-bd5b-343cdad8641f",
   "metadata": {},
   "outputs": [
    {
     "data": {
      "image/png": "[encoded data removed]",
      "text/plain": [
       "<Figure size 640x480 with 1 Axes>"
      ]
     },
     "metadata": {},
     "output_type": "display_data"
    }
   ],
   "source": [
    "sns.countplot(x='children', data=med_insurance)\n",
    "plt.show()\n",
    "plt.close()"
   ]
  },
  {
   "cell_type": "markdown",
   "id": "80db8b65-ceaf-4f18-b0ea-d9ee3279865e",
   "metadata": {},
   "source": [
    "> **Observation 1.** This plot shows us that most of the people in our dataset have 0 or 1 child."
   ]
  },
  {
   "cell_type": "markdown",
   "id": "d73c0697-1335-434b-93d1-90b92b691bf4",
   "metadata": {},
   "source": [
    "\n",
    "---\n",
    "##### 6. Is there any relationship between smoker and charges?"
   ]
  },
  {
   "cell_type": "code",
   "execution_count": 312,
   "id": "3d68ca21-e373-47d3-8a11-1091040f4b87",
   "metadata": {},
   "outputs": [
    {
     "name": "stdout",
     "output_type": "stream",
     "text": [
      "       charges smoker\n",
      "0  16884.92400    yes\n",
      "1   1725.55230     no\n",
      "2   4449.46200     no\n",
      "3  21984.47061     no\n",
      "4   3866.85520     no\n",
      "The difference between charges mean and smoker mean: 23615.963533676637\n",
      "The difference between charges median and smoker median: 27110.943150000006\n"
     ]
    }
   ],
   "source": [
    "insurance_smoker_charges = med_insurance[['charges', 'smoker']]\n",
    "print(insurance_smoker_charges.head(5))\n",
    "\n",
    "insurance_smoker = insurance_smoker_charges.charges[insurance_smoker_charges.smoker == 'yes']\n",
    "insurance_non_smoker = insurance_smoker_charges.charges[insurance_smoker_charges.smoker == 'no']\n",
    "\n",
    "insurance_smoker_mean = insurance_smoker.mean()\n",
    "insurance_non_smoker_mean = insurance_non_smoker.mean()\n",
    "\n",
    "insurance_smoker_median = insurance_smoker.median()\n",
    "insurance_non_smoker_median = insurance_non_smoker.median()\n",
    "\n",
    "print(\"The difference between charges mean and smoker mean:\", insurance_smoker_mean - insurance_non_smoker_mean)\n",
    "print(\"The difference between charges median and smoker median:\", insurance_smoker_median - insurance_non_smoker_median)"
   ]
  },
  {
   "cell_type": "code",
   "execution_count": 313,
   "id": "956aea52-aa24-4ae4-a02f-b65ce01fe90d",
   "metadata": {},
   "outputs": [
    {
     "data": {
      "image/png": "[encoded data removed]",
      "text/plain": [
       "<Figure size 640x480 with 1 Axes>"
      ]
     },
     "metadata": {},
     "output_type": "display_data"
    }
   ],
   "source": [
    "sns.boxplot(data = insurance_smoker_charges, x = 'smoker', y = 'charges')\n",
    "plt.show()"
   ]
  },
  {
   "cell_type": "code",
   "execution_count": 314,
   "id": "cabf1bb7-a884-4056-ae74-b7b136dcda5a",
   "metadata": {},
   "outputs": [
    {
     "data": {
      "image/png": "[encoded data removed]",
      "text/plain": [
       "<Figure size 640x480 with 1 Axes>"
      ]
     },
     "metadata": {},
     "output_type": "display_data"
    }
   ],
   "source": [
    "plt.hist(insurance_smoker , color=\"red\", label=\"yes\", density=True, alpha=0.5)\n",
    "plt.hist(insurance_non_smoker , color=\"blue\", label=\"no\", density=True, alpha=0.5)\n",
    "plt.legend()\n",
    "plt.show()"
   ]
  },
  {
   "cell_type": "markdown",
   "id": "4d5034c7-07f7-487d-b046-6c5684c013dd",
   "metadata": {},
   "source": [
    "> **Observation 1.** The difference is too large, therefore we can assume that being a smoker significantly increases your insurance cost."
   ]
  },
  {
   "cell_type": "markdown",
   "id": "7f0592cd-be95-4310-b77c-49e83d51947b",
   "metadata": {},
   "source": [
    "> **Observation 2.** Our boxplot and histogram show that there is no overlap between these categories, therefore we can assume that being a smoker significantly increases your insurance cost.\n",
    ">\n",
    "---"
   ]
  },
  {
   "cell_type": "markdown",
   "id": "fc63b7fc-b294-4fce-8ac9-fbd443b44c02",
   "metadata": {},
   "source": [
    "##### 7. Is there any relationship between sex and charges?"
   ]
  },
  {
   "cell_type": "code",
   "execution_count": 315,
   "id": "70ec4083-9de5-44e7-89c5-e46c36839148",
   "metadata": {},
   "outputs": [
    {
     "name": "stdout",
     "output_type": "stream",
     "text": [
      "       charges smoker\n",
      "0  16884.92400    yes\n",
      "1   1725.55230     no\n",
      "2   4449.46200     no\n",
      "3  21984.47061     no\n",
      "4   3866.85520     no\n",
      "The difference between male mean and female mean: 1387.1723338865468\n",
      "The difference between male median and female median: -43.34674999999879\n"
     ]
    }
   ],
   "source": [
    "insurance_sex_charges = med_insurance[['charges', 'sex']]\n",
    "print(insurance_smoker_charges.head(5))\n",
    "\n",
    "insurance_male = insurance_sex_charges.charges[insurance_sex_charges.sex == 'male']\n",
    "insurance_female = insurance_sex_charges.charges[insurance_sex_charges.sex == 'female']\n",
    "\n",
    "insurance_male_mean = insurance_male.mean()\n",
    "insurance_female_mean = insurance_female.mean()\n",
    "\n",
    "insurance_male_median = insurance_male.median()\n",
    "insurance_female_median = insurance_female.median()\n",
    "\n",
    "print(\"The difference between male mean and female mean:\", insurance_male_mean - insurance_female_mean)\n",
    "print(\"The difference between male median and female median:\", insurance_male_median - insurance_female_median)"
   ]
  },
  {
   "cell_type": "code",
   "execution_count": 316,
   "id": "502c62ab-61b3-438b-a66c-f423ca71f12c",
   "metadata": {},
   "outputs": [
    {
     "data": {
      "image/png": "[encoded data removed]",
      "text/plain": [
       "<Figure size 640x480 with 1 Axes>"
      ]
     },
     "metadata": {},
     "output_type": "display_data"
    }
   ],
   "source": [
    "sns.boxplot(data = insurance_sex_charges, x = 'sex', y = 'charges')\n",
    "plt.show()"
   ]
  },
  {
   "cell_type": "code",
   "execution_count": 317,
   "id": "df47d639-91cc-445f-9f7b-f23a3be81cf6",
   "metadata": {},
   "outputs": [
    {
     "data": {
      "image/png": "[encoded data removed]",
      "text/plain": [
       "<Figure size 640x480 with 1 Axes>"
      ]
     },
     "metadata": {},
     "output_type": "display_data"
    }
   ],
   "source": [
    "plt.hist(insurance_female , color=\"red\", label=\"female\", density=True, alpha=0.5)\n",
    "plt.hist(insurance_male , color=\"blue\", label=\"male\", density=True, alpha=0.5)\n",
    "plt.legend()\n",
    "plt.show()"
   ]
  },
  {
   "cell_type": "markdown",
   "id": "1d88d7b1-012e-47d7-9b6b-2b04489707ae",
   "metadata": {},
   "source": [
    "> **Observation 1.** Our difference and plots show us that there's not much difference in charges between female and male people.\n",
    ">\n",
    "---"
   ]
  },
  {
   "cell_type": "code",
   "execution_count": null,
   "id": "d46afb78-ee6b-4450-b2a0-d8a5cb70663f",
   "metadata": {},
   "outputs": [],
   "source": []
  }
 ],
 "metadata": {
  "kernelspec": {
   "display_name": "Python [conda env:base] *",
   "language": "python",
   "name": "conda-base-py"
  },
  "language_info": {
   "codemirror_mode": {
    "name": "ipython",
    "version": 3
   },
   "file_extension": ".py",
   "mimetype": "text/x-python",
   "name": "python",
   "nbconvert_exporter": "python",
   "pygments_lexer": "ipython3",
   "version": "3.13.5"
  }
 },
 "nbformat": 4,
 "nbformat_minor": 5
}
