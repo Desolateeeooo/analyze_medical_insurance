{
 "cells": [
  {
   "cell_type": "markdown",
   "id": "ad7ce973-5e3b-4b07-9ea1-8852fe222347",
   "metadata": {},
   "source": [
    "# U.S. Medical Insurance Costs"
   ]
  },
  {
   "cell_type": "markdown",
   "id": "48c101c2-1d87-43c7-9aaf-27996363e127",
   "metadata": {},
   "source": [
    "#### Part 1. Setting up the project"
   ]
  },
  {
   "cell_type": "code",
   "execution_count": 160,
   "id": "1e71e2e2-ffa6-4fb0-ad31-e5d73a3bb9dc",
   "metadata": {},
   "outputs": [],
   "source": [
    "import numpy as np\n",
    "import pandas as pd\n",
    "import matplotlib.pyplot as plt \n",
    "import seaborn as sns"
   ]
  },
  {
   "cell_type": "code",
   "execution_count": 161,
   "id": "28ec8249-1690-43a4-b503-be60003e0a63",
   "metadata": {},
   "outputs": [],
   "source": [
    "med_insurance = pd.read_csv('insurance.csv')"
   ]
  },
  {
   "cell_type": "code",
   "execution_count": 162,
   "id": "17f72b2b-50cb-4e31-813a-87e39ff8619d",
   "metadata": {},
   "outputs": [
    {
     "name": "stdout",
     "output_type": "stream",
     "text": [
      "   age     sex     bmi  children smoker     region      charges\n",
      "0   19  female  27.900         0    yes  southwest  16884.92400\n",
      "1   18    male  33.770         1     no  southeast   1725.55230\n",
      "2   28    male  33.000         3     no  southeast   4449.46200\n",
      "3   33    male  22.705         0     no  northwest  21984.47061\n",
      "4   32    male  28.880         0     no  northwest   3866.85520\n"
     ]
    }
   ],
   "source": [
    "print(med_insurance.head(5))"
   ]
  },
  {
   "cell_type": "markdown",
   "id": "dff6c036-802a-42e5-8695-00472ce01d9c",
   "metadata": {},
   "source": [
    "- Lets summarize our **data**"
   ]
  },
  {
   "cell_type": "code",
   "execution_count": 163,
   "id": "884defe2-931e-4af5-9683-60a58799389d",
   "metadata": {},
   "outputs": [
    {
     "name": "stdout",
     "output_type": "stream",
     "text": [
      "                age   sex          bmi     children smoker     region  \\\n",
      "count   1338.000000  1338  1338.000000  1338.000000   1338       1338   \n",
      "unique          NaN     2          NaN          NaN      2          4   \n",
      "top             NaN  male          NaN          NaN     no  southeast   \n",
      "freq            NaN   676          NaN          NaN   1064        364   \n",
      "mean      39.207025   NaN    30.663397     1.094918    NaN        NaN   \n",
      "std       14.049960   NaN     6.098187     1.205493    NaN        NaN   \n",
      "min       18.000000   NaN    15.960000     0.000000    NaN        NaN   \n",
      "25%       27.000000   NaN    26.296250     0.000000    NaN        NaN   \n",
      "50%       39.000000   NaN    30.400000     1.000000    NaN        NaN   \n",
      "75%       51.000000   NaN    34.693750     2.000000    NaN        NaN   \n",
      "max       64.000000   NaN    53.130000     5.000000    NaN        NaN   \n",
      "\n",
      "             charges  \n",
      "count    1338.000000  \n",
      "unique           NaN  \n",
      "top              NaN  \n",
      "freq             NaN  \n",
      "mean    13270.422265  \n",
      "std     12110.011237  \n",
      "min      1121.873900  \n",
      "25%      4740.287150  \n",
      "50%      9382.033000  \n",
      "75%     16639.912515  \n",
      "max     63770.428010  \n"
     ]
    }
   ],
   "source": [
    "print(med_insurance.describe(include=\"all\"))"
   ]
  },
  {
   "cell_type": "code",
   "execution_count": 164,
   "id": "a12e78ec-6580-4fa1-858c-5d6d78309d1d",
   "metadata": {},
   "outputs": [
    {
     "name": "stdout",
     "output_type": "stream",
     "text": [
      "age           int64\n",
      "sex          object\n",
      "bmi         float64\n",
      "children      int64\n",
      "smoker       object\n",
      "region       object\n",
      "charges     float64\n",
      "dtype: object\n"
     ]
    }
   ],
   "source": [
    "print(med_insurance.dtypes)"
   ]
  },
  {
   "cell_type": "markdown",
   "id": "6cbffcb5-18af-4c85-88f4-3ceee1e0487b",
   "metadata": {},
   "source": [
    "- Lets change the dtype of region to \"string\""
   ]
  },
  {
   "cell_type": "code",
   "execution_count": 165,
   "id": "3ca91137-eb3c-4895-8da9-e945d4b6d4f5",
   "metadata": {},
   "outputs": [],
   "source": [
    "med_insurance['region'] = med_insurance['region'].astype(\"string\")"
   ]
  },
  {
   "cell_type": "code",
   "execution_count": 166,
   "id": "7aebc1dc-32da-497c-b11a-5dbc806f303c",
   "metadata": {},
   "outputs": [
    {
     "name": "stdout",
     "output_type": "stream",
     "text": [
      "age                  int64\n",
      "sex                 object\n",
      "bmi                float64\n",
      "children             int64\n",
      "smoker              object\n",
      "region      string[python]\n",
      "charges            float64\n",
      "dtype: object\n"
     ]
    }
   ],
   "source": [
    "print(med_insurance.dtypes)"
   ]
  },
  {
   "cell_type": "markdown",
   "id": "a4283e21-1e53-47fa-898a-b7caea917346",
   "metadata": {},
   "source": [
    "#### Part 2. Answering the questions"
   ]
  },
  {
   "cell_type": "markdown",
   "id": "95a19f78-c2ea-4ca0-bd86-150bb4c91e38",
   "metadata": {},
   "source": [
    "##### 1. What is the central tendency of charges?"
   ]
  },
  {
   "cell_type": "code",
   "execution_count": 167,
   "id": "fb3649ac-9976-4b42-ab43-07bf59dc64f2",
   "metadata": {},
   "outputs": [
    {
     "name": "stdout",
     "output_type": "stream",
     "text": [
      "Mean: 13270.422265141257\n",
      "Median: 9382.033\n",
      "Mode: 9382.033\n",
      "Trimmed mean: 9877.310386652985\n"
     ]
    }
   ],
   "source": [
    "insurance_charges_mean = med_insurance.charges.mean()\n",
    "print(\"Mean:\", insurance_charges_mean)\n",
    "\n",
    "insurance_charges_median = med_insurance.charges.median()\n",
    "print(\"Median:\", insurance_charges_median)\n",
    "\n",
    "insurance_charges_mode = med_insurance.charges.mode()\n",
    "print(\"Mode:\", insurance_charges_median)\n",
    "\n",
    "from scipy.stats import trim_mean\n",
    "insurance_charges_trim_mean = trim_mean(med_insurance.charges, proportiontocut=0.2)\n",
    "print(\"Trimmed mean:\", insurance_charges_trim_mean)"
   ]
  },
  {
   "cell_type": "code",
   "execution_count": 168,
   "id": "ba8dba04-ff8a-4ae8-9c15-a8aa870d8023",
   "metadata": {},
   "outputs": [
    {
     "data": {
      "image/png": "[encoded data removed]",
      "text/plain": [
       "<Figure size 640x480 with 1 Axes>"
      ]
     },
     "metadata": {},
     "output_type": "display_data"
    }
   ],
   "source": [
    "sns.histplot(x='charges', data=med_insurance)\n",
    "plt.show()\n",
    "plt.close()"
   ]
  },
  {
   "cell_type": "markdown",
   "id": "57e2ad1a-0e2f-4a39-9498-404ef8bd2786",
   "metadata": {},
   "source": [
    "> **Observation 1.** From here we can see that the data is highly right-skewed, which pulls mean to be higher than median. Meaning there are some extra high values on the right."
   ]
  },
  {
   "cell_type": "markdown",
   "id": "16af0fed-9f3a-4c04-ad47-741c012a7f6f",
   "metadata": {},
   "source": [
    "> **Observation 2.** We see that the trimmed mean is somewhat close to median and mode. Particularly when we cut off 20% from each side."
   ]
  },
  {
   "cell_type": "markdown",
   "id": "e3f3edab-84d6-4fa6-b229-6412e3e1188f",
   "metadata": {},
   "source": [
    "> **Observation 3.** From here we can see that the typical cost of insurance is around 9400$."
   ]
  },
  {
   "cell_type": "markdown",
   "id": "631becd8-1dad-45d0-89a5-4b8a88df5617",
   "metadata": {},
   "source": [
    "##### 2. What is the spread of charges?"
   ]
  },
  {
   "cell_type": "code",
   "execution_count": 169,
   "id": "1f3e0165-86eb-4fff-8778-83262ede4a67",
   "metadata": {},
   "outputs": [
    {
     "name": "stdout",
     "output_type": "stream",
     "text": [
      "Range: 62648.554110000005\n",
      "Interquartile range: 11899.625365\n",
      "Variance: 146652372.1528548\n",
      "Standard deviation: 12110.011236693994\n",
      "Mean Absolute Deviation: 9091.12658113703\n"
     ]
    }
   ],
   "source": [
    "insurance_range = med_insurance.charges.max() - med_insurance.charges.min()\n",
    "print(\"Range:\", insurance_range)\n",
    "\n",
    "insurance_iqr = med_insurance.charges.quantile(0.75) - med_insurance.charges.quantile(0.25)\n",
    "print(\"Interquartile range:\", insurance_iqr)\n",
    "\n",
    "insurance_variance = med_insurance.charges.var()\n",
    "print(\"Variance:\", insurance_variance)\n",
    "\n",
    "insurance_std = med_insurance.charges.std()\n",
    "print(\"Standard deviation:\", insurance_std)\n",
    "\n",
    "def mad(series):\n",
    "    return (series - series.mean()).abs().mean()\n",
    "\n",
    "insurance_mad = mad(med_insurance.charges)\n",
    "print(\"Mean Absolute Deviation:\", insurance_mad)"
   ]
  },
  {
   "cell_type": "markdown",
   "id": "5fb623bb-55d0-44ea-b74d-7ea1185bfe76",
   "metadata": {},
   "source": [
    "> **Observation 1.** We see that the range is not suitable here, this is due to 1 or more people have >60000$ charge price. Therefore we might need to look at IQR. "
   ]
  },
  {
   "cell_type": "markdown",
   "id": "31e4ed66-4e7d-4887-9bfb-574d22e9c569",
   "metadata": {},
   "source": [
    "> **Observation 2.** Standard deviation is not very descriptive here, because our data is highly right-skewed distributed. Therefore we might need to look at Mean Absolute Deviation. "
   ]
  },
  {
   "cell_type": "markdown",
   "id": "64762f5b-5653-4692-ba49-e0dfd228b4fb",
   "metadata": {},
   "source": [
    "> **Observation 3.**\n",
    "> - This shows us that the 50% of central dataset is clustered around the median.\n",
    "> - This tell us that most people's insurance costs are clustered very tightly around the average cost."
   ]
  },
  {
   "cell_type": "code",
   "execution_count": null,
   "id": "cb830f01-95ea-4de2-921b-0f52736a7019",
   "metadata": {},
   "outputs": [],
   "source": []
  }
 ],
 "metadata": {
  "kernelspec": {
   "display_name": "Python [conda env:base] *",
   "language": "python",
   "name": "conda-base-py"
  },
  "language_info": {
   "codemirror_mode": {
    "name": "ipython",
    "version": 3
   },
   "file_extension": ".py",
   "mimetype": "text/x-python",
   "name": "python",
   "nbconvert_exporter": "python",
   "pygments_lexer": "ipython3",
   "version": "3.13.5"
  }
 },
 "nbformat": 4,
 "nbformat_minor": 5
}
