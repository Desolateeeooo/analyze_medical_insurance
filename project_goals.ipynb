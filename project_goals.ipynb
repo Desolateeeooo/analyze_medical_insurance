{
 "cells": [
  {
   "cell_type": "markdown",
   "id": "0ebad39d-de7f-44ec-a6c9-df3b17eba886",
   "metadata": {},
   "source": [
    "### Project Goals"
   ]
  },
  {
   "cell_type": "markdown",
   "id": "e48e6991-9081-44c5-bed1-cba4ea968a79",
   "metadata": {},
   "source": [
    "#### Part 1\n",
    "- What is the average age of the patients in dataset?\n",
    "- What is the percentage of smokers and non-smokers?\n",
    "- What is the most smoking region?\n",
    "- Find the central tendency of charges.\n",
    "- Find the spread of charges.\n",
    "- Find the central tendency of bmi.\n",
    "- FInd the spread of bmi.\n",
    "- Describe the relationship between charges and smoker.\n",
    "- Describe the relationship between charges and sex.\n",
    "- Describe the relationship between charges and bmi.\n",
    "- Describe the relationship between charges and children."
   ]
  },
  {
   "cell_type": "markdown",
   "id": "d093db73-fdd7-4456-b1d6-a7fdabdc4a85",
   "metadata": {},
   "source": [
    "#### Part 2"
   ]
  },
  {
   "cell_type": "markdown",
   "id": "bd950bf6-4c7d-4a26-b5e6-e0e11de0edc7",
   "metadata": {},
   "source": [
    "- What are the central tendency and spread of charges across all four regions?\n",
    "- Display data in different tables for each region"
   ]
  }
 ],
 "metadata": {
  "kernelspec": {
   "display_name": "Python [conda env:base] *",
   "language": "python",
   "name": "conda-base-py"
  },
  "language_info": {
   "codemirror_mode": {
    "name": "ipython",
    "version": 3
   },
   "file_extension": ".py",
   "mimetype": "text/x-python",
   "name": "python",
   "nbconvert_exporter": "python",
   "pygments_lexer": "ipython3",
   "version": "3.13.5"
  }
 },
 "nbformat": 4,
 "nbformat_minor": 5
}
